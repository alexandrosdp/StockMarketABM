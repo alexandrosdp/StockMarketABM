{
 "cells": [
  {
   "cell_type": "code",
   "execution_count": null,
   "metadata": {},
   "outputs": [],
   "source": [
    "pip install SALib"
   ]
  },
  {
   "cell_type": "code",
   "execution_count": 12,
   "metadata": {},
   "outputs": [],
   "source": [
    "from tqdm import tqdm"
   ]
  },
  {
   "cell_type": "code",
   "execution_count": 3,
   "metadata": {},
   "outputs": [],
   "source": [
    "from SALib.sample import saltelli\n",
    "from SALib.analyze import sobol\n",
    "import numpy as np\n",
    "import matplotlib.pyplot as plt\n",
    "import pandas as pd"
   ]
  },
  {
   "cell_type": "code",
   "execution_count": 4,
   "metadata": {},
   "outputs": [],
   "source": [
    "from Experiment import *"
   ]
  },
  {
   "cell_type": "code",
   "execution_count": 5,
   "metadata": {},
   "outputs": [],
   "source": [
    "from simulate_network import Market"
   ]
  },
  {
   "cell_type": "code",
   "execution_count": 45,
   "metadata": {},
   "outputs": [],
   "source": [
    "# Define the parameter space\n",
    "problem = {\n",
    "    'num_vars': 6,\n",
    "    'names': [\n",
    "        'number_of_traders', 'percent_rational', 'percent_risky',\n",
    "        'high_lookback', 'high_risk', 'new_node_edges'],\n",
    "    'bounds': [\n",
    "        [50, 200],  # number_of_traders\n",
    "        [0.05, 1.0],  # percent_rational\n",
    "        [0.05, 1.0],  # percent_risky\n",
    "        [5, 30],        # high_lookback\n",
    "        [0.05, 0.20],  # high_risk\n",
    "        [2, 10],  # new_node_edges\n",
    "    ]\n",
    "}"
   ]
  },
  {
   "cell_type": "code",
   "execution_count": 6,
   "metadata": {},
   "outputs": [],
   "source": [
    "from SALib.sample import sobol\n",
    "from SALib.analyze import sobol as sobol_analyze\n",
    "from scipy.stats import kurtosis\n",
    "import numpy as np\n",
    "import time"
   ]
  },
  {
   "cell_type": "code",
   "execution_count": 7,
   "metadata": {},
   "outputs": [],
   "source": [
    "high_risk = 0.01\n",
    "high_lookback = 1\n",
    "number_of_traders = 100\n",
    "percent_rational = 0.5\n",
    "percent_risky = 0.5"
   ]
  },
  {
   "cell_type": "code",
   "execution_count": 8,
   "metadata": {},
   "outputs": [],
   "source": [
    "parameters = [high_risk, high_lookback, number_of_traders, percent_rational, percent_risky]"
   ]
  },
  {
   "cell_type": "code",
   "execution_count": 9,
   "metadata": {},
   "outputs": [],
   "source": [
    "\n",
    "experiment = Experiment(initial_price=0, \n",
    "                            time_steps=1000,\n",
    "                            network_type=\"barabasi\",\n",
    "                            number_of_traders=200,\n",
    "                            percent_fund=0.50,\n",
    "                            percent_chartist=0.50,\n",
    "                            percent_rational=0.2,\n",
    "                            percent_risky=0.2,\n",
    "                            high_lookback=5,\n",
    "                            low_lookback=1,\n",
    "                            high_risk=0.25,\n",
    "                            low_risk=0.1,\n",
    "                            new_node_edges=6,\n",
    "                            connection_probability=0.50,\n",
    "                            mu=0.01,\n",
    "                            beta=1,\n",
    "                            alpha_w=2668,\n",
    "                            alpha_O=2.1,\n",
    "                            alpha_p=0\n",
    "                            )\n",
    "     #experiment.flash_crash_experiment()\n",
    "     #market = experiment.run_simulation()  # Ensure proper recepte market\n",
    "     #experiment.analyze_autocorrelation_of_returns(market.prices)\n"
   ]
  },
  {
   "cell_type": "code",
   "execution_count": 13,
   "metadata": {},
   "outputs": [
    {
     "name": "stderr",
     "output_type": "stream",
     "text": [
      "  0%|          | 0/35 [00:00<?, ?it/s]"
     ]
    },
    {
     "name": "stdout",
     "output_type": "stream",
     "text": [
      "Creating network barabasi\n",
      "                                                                                                    \r"
     ]
    },
    {
     "name": "stderr",
     "output_type": "stream",
     "text": [
      "  0%|          | 0/35 [00:16<?, ?it/s]\n"
     ]
    },
    {
     "ename": "NameError",
     "evalue": "name 'norm' is not defined",
     "output_type": "error",
     "traceback": [
      "\u001b[0;31m---------------------------------------------------------------------------\u001b[0m",
      "\u001b[0;31mNameError\u001b[0m                                 Traceback (most recent call last)",
      "\u001b[1;32m/Users/divyagajera/Desktop/ABM-Notebooks/StockMarketABM/Sensitivity_Analysis.ipynb Cell 11\u001b[0m line \u001b[0;36m3\n\u001b[1;32m      <a href='vscode-notebook-cell:/Users/divyagajera/Desktop/ABM-Notebooks/StockMarketABM/Sensitivity_Analysis.ipynb#X21sZmlsZQ%3D%3D?line=0'>1</a>\u001b[0m k_s \u001b[39m=\u001b[39m []\n\u001b[1;32m      <a href='vscode-notebook-cell:/Users/divyagajera/Desktop/ABM-Notebooks/StockMarketABM/Sensitivity_Analysis.ipynb#X21sZmlsZQ%3D%3D?line=1'>2</a>\u001b[0m \u001b[39mfor\u001b[39;00m _ \u001b[39min\u001b[39;00m tqdm(\u001b[39mrange\u001b[39m(\u001b[39m35\u001b[39m)):\n\u001b[0;32m----> <a href='vscode-notebook-cell:/Users/divyagajera/Desktop/ABM-Notebooks/StockMarketABM/Sensitivity_Analysis.ipynb#X21sZmlsZQ%3D%3D?line=2'>3</a>\u001b[0m     k_s\u001b[39m.\u001b[39mappend(experiment\u001b[39m.\u001b[39mfat_tail_experiment(\u001b[39m1000\u001b[39m))\n",
      "File \u001b[0;32m~/Desktop/ABM-Notebooks/StockMarketABM/Experiment.py:232\u001b[0m, in \u001b[0;36mExperiment.fat_tail_experiment\u001b[0;34m(self, T)\u001b[0m\n\u001b[1;32m    221\u001b[0m \u001b[39m    \u001b[39m\u001b[39m\"\"\" plt.figure()\u001b[39;00m\n\u001b[1;32m    222\u001b[0m \u001b[39m    plt.plot(np.exp(market.prices))\u001b[39;00m\n\u001b[1;32m    223\u001b[0m \u001b[39m    plt.xlabel('Time')\u001b[39;00m\n\u001b[0;32m   (...)\u001b[0m\n\u001b[1;32m    229\u001b[0m \u001b[39m    plt.show()\u001b[39;00m\n\u001b[1;32m    230\u001b[0m \u001b[39m    plt.hist(rr.flatten(), bins = 50, density=True, alpha=0.8, color='b', edgecolor='black', linewidth=1.2) \"\"\"\u001b[39;00m\n\u001b[1;32m    231\u001b[0m \u001b[39m# Fit a normal distribution to the data\u001b[39;00m\n\u001b[0;32m--> 232\u001b[0m     mu, std \u001b[39m=\u001b[39m norm\u001b[39m.\u001b[39mfit(rr\u001b[39m.\u001b[39mflatten())\n\u001b[1;32m    233\u001b[0m     xmin, xmax \u001b[39m=\u001b[39m plt\u001b[39m.\u001b[39mxlim()\n\u001b[1;32m    234\u001b[0m     x \u001b[39m=\u001b[39m np\u001b[39m.\u001b[39mlinspace(xmin, xmax, \u001b[39m100\u001b[39m)\n",
      "\u001b[0;31mNameError\u001b[0m: name 'norm' is not defined"
     ]
    }
   ],
   "source": [
    "k_s = []\n",
    "for _ in tqdm(range(35)):\n",
    "    k_s.append(experiment.fat_tail_experiment(1000))"
   ]
  },
  {
   "cell_type": "code",
   "execution_count": null,
   "metadata": {},
   "outputs": [],
   "source": [
    "plt.hist(k_s, bins=20)"
   ]
  },
  {
   "cell_type": "code",
   "execution_count": 67,
   "metadata": {},
   "outputs": [],
   "source": [
    "def model(params):\n",
    "    exp = Experiment(\n",
    "        initial_price=0,\n",
    "        time_steps= 1000,\n",
    "        network_type='barabasi',\n",
    "        number_of_traders=int(params[0]),\n",
    "        percent_fund = 0.5,\n",
    "        percent_chartist=0.5,\n",
    "        percent_rational=params[1],\n",
    "        percent_risky=params[2],\n",
    "        high_lookback=int(params[3]),\n",
    "        low_lookback=1,\n",
    "        high_risk=params[4],\n",
    "        low_risk=0.01,\n",
    "        new_node_edges=int(params[5]),\n",
    "        connection_probability=0.5,\n",
    "        mu=0.01,\n",
    "        beta=1,\n",
    "        alpha_w=2668,\n",
    "        alpha_O=2.1,\n",
    "        alpha_p=0\n",
    "    )\n",
    "    market = exp.run_simulation()\n",
    "    returns = np.diff(market.prices)\n",
    "    return kurtosis(returns)\n"
   ]
  },
  {
   "cell_type": "code",
   "execution_count": 61,
   "metadata": {},
   "outputs": [
    {
     "name": "stdout",
     "output_type": "stream",
     "text": [
      "                                                                                                    \r"
     ]
    },
    {
     "data": {
      "text/plain": [
       "2.6828272132579043"
      ]
     },
     "execution_count": 61,
     "metadata": {},
     "output_type": "execute_result"
    }
   ],
   "source": [
    "params = [50, 0.5, 0.5, 5, 0.1, 5]\n",
    "model(params)"
   ]
  },
  {
   "cell_type": "code",
   "execution_count": 65,
   "metadata": {},
   "outputs": [
    {
     "name": "stdout",
     "output_type": "stream",
     "text": [
      "Progress: [████████████████████------------------------------] 40%                                  "
     ]
    },
    {
     "ename": "KeyboardInterrupt",
     "evalue": "",
     "output_type": "error",
     "traceback": [
      "\u001b[0;31m---------------------------------------------------------------------------\u001b[0m",
      "\u001b[0;31mKeyboardInterrupt\u001b[0m                         Traceback (most recent call last)",
      "\u001b[1;32m/Users/divyagajera/Desktop/StockMarketABM/Sensitivity_Analysis.ipynb Cell 10\u001b[0m line \u001b[0;36m2\n\u001b[1;32m      <a href='vscode-notebook-cell:/Users/divyagajera/Desktop/StockMarketABM/Sensitivity_Analysis.ipynb#X13sZmlsZQ%3D%3D?line=5'>6</a>\u001b[0m \u001b[39mfor\u001b[39;00m i, params \u001b[39min\u001b[39;00m \u001b[39menumerate\u001b[39m(param_values):\n\u001b[1;32m      <a href='vscode-notebook-cell:/Users/divyagajera/Desktop/StockMarketABM/Sensitivity_Analysis.ipynb#X13sZmlsZQ%3D%3D?line=6'>7</a>\u001b[0m     exp \u001b[39m=\u001b[39m Experiment(\n\u001b[1;32m      <a href='vscode-notebook-cell:/Users/divyagajera/Desktop/StockMarketABM/Sensitivity_Analysis.ipynb#X13sZmlsZQ%3D%3D?line=7'>8</a>\u001b[0m         initial_price\u001b[39m=\u001b[39m\u001b[39m0\u001b[39m,\n\u001b[1;32m      <a href='vscode-notebook-cell:/Users/divyagajera/Desktop/StockMarketABM/Sensitivity_Analysis.ipynb#X13sZmlsZQ%3D%3D?line=8'>9</a>\u001b[0m         time_steps\u001b[39m=\u001b[39m \u001b[39m1000\u001b[39m,\n\u001b[0;32m   (...)\u001b[0m\n\u001b[1;32m     <a href='vscode-notebook-cell:/Users/divyagajera/Desktop/StockMarketABM/Sensitivity_Analysis.ipynb#X13sZmlsZQ%3D%3D?line=25'>26</a>\u001b[0m         alpha_p\u001b[39m=\u001b[39m\u001b[39m0\u001b[39m\n\u001b[1;32m     <a href='vscode-notebook-cell:/Users/divyagajera/Desktop/StockMarketABM/Sensitivity_Analysis.ipynb#X13sZmlsZQ%3D%3D?line=26'>27</a>\u001b[0m     )\n\u001b[0;32m---> <a href='vscode-notebook-cell:/Users/divyagajera/Desktop/StockMarketABM/Sensitivity_Analysis.ipynb#X13sZmlsZQ%3D%3D?line=27'>28</a>\u001b[0m     market \u001b[39m=\u001b[39m exp\u001b[39m.\u001b[39mrun_simulation()\n\u001b[1;32m     <a href='vscode-notebook-cell:/Users/divyagajera/Desktop/StockMarketABM/Sensitivity_Analysis.ipynb#X13sZmlsZQ%3D%3D?line=28'>29</a>\u001b[0m     returns \u001b[39m=\u001b[39m np\u001b[39m.\u001b[39mdiff(market\u001b[39m.\u001b[39mprices)\n\u001b[1;32m     <a href='vscode-notebook-cell:/Users/divyagajera/Desktop/StockMarketABM/Sensitivity_Analysis.ipynb#X13sZmlsZQ%3D%3D?line=29'>30</a>\u001b[0m     k \u001b[39m=\u001b[39m kurtosis(returns)\n",
      "File \u001b[0;32m~/Desktop/StockMarketABM/Experiment.py:59\u001b[0m, in \u001b[0;36mExperiment.run_simulation\u001b[0;34m(self)\u001b[0m\n\u001b[1;32m     56\u001b[0m     agent\u001b[39m.\u001b[39mupdate_wealth(t)\n\u001b[1;32m     58\u001b[0m \u001b[39m# update strategies for all agents\u001b[39;00m\n\u001b[0;32m---> 59\u001b[0m market\u001b[39m.\u001b[39mupdate_strategies(t)\n\u001b[1;32m     60\u001b[0m \u001b[39m# Calculate the demands of all agents\u001b[39;00m\n\u001b[1;32m     61\u001b[0m market\u001b[39m.\u001b[39mcalculate_demands(t)\n",
      "File \u001b[0;32m~/Desktop/StockMarketABM/simulate_network.py:44\u001b[0m, in \u001b[0;36mMarket.update_strategies\u001b[0;34m(self, t)\u001b[0m\n\u001b[1;32m     41\u001b[0m neighbor_node_numbers \u001b[39m=\u001b[39m \u001b[39mself\u001b[39m\u001b[39m.\u001b[39mnetwork\u001b[39m.\u001b[39mget_neighbors(agent\u001b[39m.\u001b[39mnode_number)\n\u001b[1;32m     42\u001b[0m neighbors \u001b[39m=\u001b[39m [\u001b[39mself\u001b[39m\u001b[39m.\u001b[39mnetwork\u001b[39m.\u001b[39mtrader_dictionary[neighbor] \u001b[39mfor\u001b[39;00m neighbor \u001b[39min\u001b[39;00m neighbor_node_numbers]\n\u001b[0;32m---> 44\u001b[0m perfomances \u001b[39m=\u001b[39m [\u001b[39mself\u001b[39m\u001b[39m.\u001b[39mcalculate_average_performance(neighbor, agent_lookback_period) \u001b[39mfor\u001b[39;00m neighbor \u001b[39min\u001b[39;00m neighbors]\n\u001b[1;32m     45\u001b[0m \u001b[39mif\u001b[39;00m \u001b[39mself\u001b[39m\u001b[39m.\u001b[39mcalculate_average_performance(agent, agent_lookback_period) \u001b[39m<\u001b[39m np\u001b[39m.\u001b[39mmax(perfomances):\n\u001b[1;32m     46\u001b[0m     \u001b[39mself\u001b[39m\u001b[39m.\u001b[39mnetwork\u001b[39m.\u001b[39mtrader_dictionary[agent_node_number] \u001b[39m=\u001b[39m neighbors[np\u001b[39m.\u001b[39margmax(perfomances)]  \n",
      "File \u001b[0;32m~/Desktop/StockMarketABM/simulate_network.py:44\u001b[0m, in \u001b[0;36m<listcomp>\u001b[0;34m(.0)\u001b[0m\n\u001b[1;32m     41\u001b[0m neighbor_node_numbers \u001b[39m=\u001b[39m \u001b[39mself\u001b[39m\u001b[39m.\u001b[39mnetwork\u001b[39m.\u001b[39mget_neighbors(agent\u001b[39m.\u001b[39mnode_number)\n\u001b[1;32m     42\u001b[0m neighbors \u001b[39m=\u001b[39m [\u001b[39mself\u001b[39m\u001b[39m.\u001b[39mnetwork\u001b[39m.\u001b[39mtrader_dictionary[neighbor] \u001b[39mfor\u001b[39;00m neighbor \u001b[39min\u001b[39;00m neighbor_node_numbers]\n\u001b[0;32m---> 44\u001b[0m perfomances \u001b[39m=\u001b[39m [\u001b[39mself\u001b[39m\u001b[39m.\u001b[39mcalculate_average_performance(neighbor, agent_lookback_period) \u001b[39mfor\u001b[39;00m neighbor \u001b[39min\u001b[39;00m neighbors]\n\u001b[1;32m     45\u001b[0m \u001b[39mif\u001b[39;00m \u001b[39mself\u001b[39m\u001b[39m.\u001b[39mcalculate_average_performance(agent, agent_lookback_period) \u001b[39m<\u001b[39m np\u001b[39m.\u001b[39mmax(perfomances):\n\u001b[1;32m     46\u001b[0m     \u001b[39mself\u001b[39m\u001b[39m.\u001b[39mnetwork\u001b[39m.\u001b[39mtrader_dictionary[agent_node_number] \u001b[39m=\u001b[39m neighbors[np\u001b[39m.\u001b[39margmax(perfomances)]  \n",
      "File \u001b[0;32m~/Desktop/StockMarketABM/simulate_network.py:59\u001b[0m, in \u001b[0;36mMarket.calculate_average_performance\u001b[0;34m(self, agent, agent_lookback_period)\u001b[0m\n\u001b[1;32m     57\u001b[0m     \u001b[39mreturn\u001b[39;00m np\u001b[39m.\u001b[39mmean(agent\u001b[39m.\u001b[39mG)\n\u001b[1;32m     58\u001b[0m \u001b[39melse\u001b[39;00m:\n\u001b[0;32m---> 59\u001b[0m     \u001b[39mreturn\u001b[39;00m np\u001b[39m.\u001b[39mmean(agent\u001b[39m.\u001b[39mG[\u001b[39m-\u001b[39magent_lookback_period:])\n",
      "File \u001b[0;32m<__array_function__ internals>:200\u001b[0m, in \u001b[0;36mmean\u001b[0;34m(*args, **kwargs)\u001b[0m\n",
      "File \u001b[0;32m~/anaconda3/lib/python3.11/site-packages/numpy/core/fromnumeric.py:3464\u001b[0m, in \u001b[0;36mmean\u001b[0;34m(a, axis, dtype, out, keepdims, where)\u001b[0m\n\u001b[1;32m   3461\u001b[0m     \u001b[39melse\u001b[39;00m:\n\u001b[1;32m   3462\u001b[0m         \u001b[39mreturn\u001b[39;00m mean(axis\u001b[39m=\u001b[39maxis, dtype\u001b[39m=\u001b[39mdtype, out\u001b[39m=\u001b[39mout, \u001b[39m*\u001b[39m\u001b[39m*\u001b[39mkwargs)\n\u001b[0;32m-> 3464\u001b[0m \u001b[39mreturn\u001b[39;00m _methods\u001b[39m.\u001b[39m_mean(a, axis\u001b[39m=\u001b[39maxis, dtype\u001b[39m=\u001b[39mdtype,\n\u001b[1;32m   3465\u001b[0m                       out\u001b[39m=\u001b[39mout, \u001b[39m*\u001b[39m\u001b[39m*\u001b[39mkwargs)\n",
      "\u001b[0;31mKeyboardInterrupt\u001b[0m: "
     ]
    }
   ],
   "source": [
    "# Generate Sobol samples\n",
    "param_values = sobol.sample(problem, 8)\n",
    "\n",
    "results = []\n",
    "\n",
    "for i, params in enumerate(param_values):\n",
    "    exp = Experiment(\n",
    "        initial_price=0,\n",
    "        time_steps= 1000,\n",
    "        network_type='barabasi',\n",
    "        number_of_traders=int(params[0]),\n",
    "        percent_fund = 0.5,\n",
    "        percent_chartist=0.5,\n",
    "        percent_rational=params[1],\n",
    "        percent_risky=params[2],\n",
    "        high_lookback=int(params[3]),\n",
    "        low_lookback=1,\n",
    "        high_risk=params[4],\n",
    "        low_risk=0.01,\n",
    "        new_node_edges=10,\n",
    "        connection_probability=0.5,\n",
    "        mu=0.01,\n",
    "        beta=1,\n",
    "        alpha_w=2668,\n",
    "        alpha_O=2.1,\n",
    "        alpha_p=0\n",
    "    )\n",
    "    market = exp.run_simulation()\n",
    "    returns = np.diff(market.prices)\n",
    "    k = kurtosis(returns)\n",
    "    "
   ]
  },
  {
   "cell_type": "code",
   "execution_count": 57,
   "metadata": {},
   "outputs": [
    {
     "name": "stdout",
     "output_type": "stream",
     "text": [
      "Progress: 0.00%                                                                                     \n",
      "Progress: 8.93%                                                                                     \n",
      "                                                                                                    \r"
     ]
    },
    {
     "ename": "IndexError",
     "evalue": "pop from empty list",
     "output_type": "error",
     "traceback": [
      "\u001b[0;31m---------------------------------------------------------------------------\u001b[0m",
      "\u001b[0;31mIndexError\u001b[0m                                Traceback (most recent call last)",
      "\u001b[1;32m/Users/divyagajera/Desktop/StockMarketABM/Sensitivity_Analysis.ipynb Cell 11\u001b[0m line \u001b[0;36m8\n\u001b[1;32m      <a href='vscode-notebook-cell:/Users/divyagajera/Desktop/StockMarketABM/Sensitivity_Analysis.ipynb#X11sZmlsZQ%3D%3D?line=5'>6</a>\u001b[0m start_time \u001b[39m=\u001b[39m time\u001b[39m.\u001b[39mtime()\n\u001b[1;32m      <a href='vscode-notebook-cell:/Users/divyagajera/Desktop/StockMarketABM/Sensitivity_Analysis.ipynb#X11sZmlsZQ%3D%3D?line=6'>7</a>\u001b[0m \u001b[39mfor\u001b[39;00m i, params \u001b[39min\u001b[39;00m \u001b[39menumerate\u001b[39m(param_values):\n\u001b[0;32m----> <a href='vscode-notebook-cell:/Users/divyagajera/Desktop/StockMarketABM/Sensitivity_Analysis.ipynb#X11sZmlsZQ%3D%3D?line=7'>8</a>\u001b[0m     results\u001b[39m.\u001b[39mappend(model(params))\n\u001b[1;32m      <a href='vscode-notebook-cell:/Users/divyagajera/Desktop/StockMarketABM/Sensitivity_Analysis.ipynb#X11sZmlsZQ%3D%3D?line=8'>9</a>\u001b[0m     \u001b[39mif\u001b[39;00m i \u001b[39m%\u001b[39m \u001b[39m10\u001b[39m \u001b[39m==\u001b[39m \u001b[39m0\u001b[39m:\n\u001b[1;32m     <a href='vscode-notebook-cell:/Users/divyagajera/Desktop/StockMarketABM/Sensitivity_Analysis.ipynb#X11sZmlsZQ%3D%3D?line=9'>10</a>\u001b[0m         \u001b[39mprint\u001b[39m(\u001b[39mf\u001b[39m\u001b[39m\"\u001b[39m\u001b[39mProgress: \u001b[39m\u001b[39m{\u001b[39;00mi\u001b[39m \u001b[39m\u001b[39m/\u001b[39m\u001b[39m \u001b[39m\u001b[39mlen\u001b[39m(param_values)\u001b[39m \u001b[39m\u001b[39m*\u001b[39m\u001b[39m \u001b[39m\u001b[39m100\u001b[39m\u001b[39m:\u001b[39;00m\u001b[39m.2f\u001b[39m\u001b[39m}\u001b[39;00m\u001b[39m%\u001b[39m\u001b[39m\"\u001b[39m)\n",
      "\u001b[1;32m/Users/divyagajera/Desktop/StockMarketABM/Sensitivity_Analysis.ipynb Cell 11\u001b[0m line \u001b[0;36m2\n\u001b[1;32m      <a href='vscode-notebook-cell:/Users/divyagajera/Desktop/StockMarketABM/Sensitivity_Analysis.ipynb#X11sZmlsZQ%3D%3D?line=0'>1</a>\u001b[0m \u001b[39mdef\u001b[39;00m \u001b[39mmodel\u001b[39m(params):\n\u001b[1;32m      <a href='vscode-notebook-cell:/Users/divyagajera/Desktop/StockMarketABM/Sensitivity_Analysis.ipynb#X11sZmlsZQ%3D%3D?line=1'>2</a>\u001b[0m     exp \u001b[39m=\u001b[39m Experiment(\n\u001b[1;32m      <a href='vscode-notebook-cell:/Users/divyagajera/Desktop/StockMarketABM/Sensitivity_Analysis.ipynb#X11sZmlsZQ%3D%3D?line=2'>3</a>\u001b[0m         initial_price\u001b[39m=\u001b[39m\u001b[39m0\u001b[39m,\n\u001b[1;32m      <a href='vscode-notebook-cell:/Users/divyagajera/Desktop/StockMarketABM/Sensitivity_Analysis.ipynb#X11sZmlsZQ%3D%3D?line=3'>4</a>\u001b[0m         time_steps\u001b[39m=\u001b[39m \u001b[39m1000\u001b[39m,\n\u001b[0;32m   (...)\u001b[0m\n\u001b[1;32m     <a href='vscode-notebook-cell:/Users/divyagajera/Desktop/StockMarketABM/Sensitivity_Analysis.ipynb#X11sZmlsZQ%3D%3D?line=20'>21</a>\u001b[0m         alpha_p\u001b[39m=\u001b[39m\u001b[39m0\u001b[39m\n\u001b[1;32m     <a href='vscode-notebook-cell:/Users/divyagajera/Desktop/StockMarketABM/Sensitivity_Analysis.ipynb#X11sZmlsZQ%3D%3D?line=21'>22</a>\u001b[0m     )\n\u001b[0;32m---> <a href='vscode-notebook-cell:/Users/divyagajera/Desktop/StockMarketABM/Sensitivity_Analysis.ipynb#X11sZmlsZQ%3D%3D?line=22'>23</a>\u001b[0m     market \u001b[39m=\u001b[39m exp\u001b[39m.\u001b[39mrun_simulation()\n\u001b[1;32m     <a href='vscode-notebook-cell:/Users/divyagajera/Desktop/StockMarketABM/Sensitivity_Analysis.ipynb#X11sZmlsZQ%3D%3D?line=23'>24</a>\u001b[0m     returns \u001b[39m=\u001b[39m np\u001b[39m.\u001b[39mdiff(market\u001b[39m.\u001b[39mprices)\n\u001b[1;32m     <a href='vscode-notebook-cell:/Users/divyagajera/Desktop/StockMarketABM/Sensitivity_Analysis.ipynb#X11sZmlsZQ%3D%3D?line=24'>25</a>\u001b[0m     \u001b[39mreturn\u001b[39;00m kurtosis(returns)\n",
      "File \u001b[0;32m~/Desktop/StockMarketABM/Experiment.py:46\u001b[0m, in \u001b[0;36mExperiment.run_simulation\u001b[0;34m(self)\u001b[0m\n\u001b[1;32m     43\u001b[0m \u001b[39mdef\u001b[39;00m \u001b[39mrun_simulation\u001b[39m(\u001b[39mself\u001b[39m):\n\u001b[1;32m     44\u001b[0m     network \u001b[39m=\u001b[39m Network(network_type\u001b[39m=\u001b[39m\u001b[39mself\u001b[39m\u001b[39m.\u001b[39mnetwork_type, number_of_traders\u001b[39m=\u001b[39m\u001b[39mself\u001b[39m\u001b[39m.\u001b[39mnumber_of_traders, percent_fund\u001b[39m=\u001b[39m\u001b[39mself\u001b[39m\u001b[39m.\u001b[39mpercent_fund, percent_chartist\u001b[39m=\u001b[39m\u001b[39mself\u001b[39m\u001b[39m.\u001b[39mpercent_chartist, percent_rational\u001b[39m=\u001b[39m\u001b[39mself\u001b[39m\u001b[39m.\u001b[39mpercent_rational, percent_risky\u001b[39m=\u001b[39m\u001b[39mself\u001b[39m\u001b[39m.\u001b[39mpercent_risky,\n\u001b[1;32m     45\u001b[0m                       high_lookback\u001b[39m=\u001b[39m\u001b[39mself\u001b[39m\u001b[39m.\u001b[39mhigh_lookback, low_lookback\u001b[39m=\u001b[39m\u001b[39mself\u001b[39m\u001b[39m.\u001b[39mlow_lookback, high_risk\u001b[39m=\u001b[39m\u001b[39mself\u001b[39m\u001b[39m.\u001b[39mhigh_risk, low_risk\u001b[39m=\u001b[39m\u001b[39mself\u001b[39m\u001b[39m.\u001b[39mlow_risk, new_node_edges\u001b[39m=\u001b[39m\u001b[39mself\u001b[39m\u001b[39m.\u001b[39mnew_node_edges, connection_probability\u001b[39m=\u001b[39m\u001b[39mself\u001b[39m\u001b[39m.\u001b[39mconnection_probability)\n\u001b[0;32m---> 46\u001b[0m     network\u001b[39m.\u001b[39mcreate_network()\n\u001b[1;32m     47\u001b[0m     \u001b[39m# Ensure enough initial prices for the first calculations\u001b[39;00m\n\u001b[1;32m     48\u001b[0m     prices \u001b[39m=\u001b[39m [\u001b[39mself\u001b[39m\u001b[39m.\u001b[39minitial_price, \u001b[39mself\u001b[39m\u001b[39m.\u001b[39minitial_price, \u001b[39mself\u001b[39m\u001b[39m.\u001b[39minitial_price]\n",
      "File \u001b[0;32m~/Desktop/StockMarketABM/Network.py:44\u001b[0m, in \u001b[0;36mNetwork.create_network\u001b[0;34m(self)\u001b[0m\n\u001b[1;32m     42\u001b[0m     \u001b[39mself\u001b[39m\u001b[39m.\u001b[39mnetwork \u001b[39m=\u001b[39m nx\u001b[39m.\u001b[39merdos_renyi_graph(n \u001b[39m=\u001b[39m \u001b[39mself\u001b[39m\u001b[39m.\u001b[39mnumber_of_traders, p \u001b[39m=\u001b[39m \u001b[39mself\u001b[39m\u001b[39m.\u001b[39mconnection_probability)\n\u001b[1;32m     43\u001b[0m \u001b[39melif\u001b[39;00m \u001b[39mself\u001b[39m\u001b[39m.\u001b[39mnetwork_type \u001b[39m==\u001b[39m \u001b[39m\"\u001b[39m\u001b[39msmall_world\u001b[39m\u001b[39m\"\u001b[39m:\n\u001b[0;32m---> 44\u001b[0m     \u001b[39mself\u001b[39m\u001b[39m.\u001b[39mnetwork \u001b[39m=\u001b[39m nx\u001b[39m.\u001b[39mwatts_strogatz_graph(\u001b[39mself\u001b[39m\u001b[39m.\u001b[39mnumber_of_traders, \u001b[39mself\u001b[39m\u001b[39m.\u001b[39mnew_node_edges, \u001b[39mself\u001b[39m\u001b[39m.\u001b[39mconnection_probability)\n\u001b[1;32m     47\u001b[0m traders  \u001b[39m=\u001b[39m \u001b[39mself\u001b[39m\u001b[39m.\u001b[39mcreate_traders()\n\u001b[1;32m     49\u001b[0m \u001b[39mfor\u001b[39;00m i, node \u001b[39min\u001b[39;00m \u001b[39menumerate\u001b[39m(\u001b[39mself\u001b[39m\u001b[39m.\u001b[39mnetwork\u001b[39m.\u001b[39mnodes()):\n",
      "File \u001b[0;32m~/Desktop/StockMarketABM/Network.py:95\u001b[0m, in \u001b[0;36mcreate_traders\u001b[0;34m(self)\u001b[0m\n\u001b[1;32m     93\u001b[0m \u001b[39m# generate the different fractions of traders\u001b[39;00m\n\u001b[1;32m     94\u001b[0m Nc \u001b[39m=\u001b[39m \u001b[39m0\u001b[39m\n\u001b[0;32m---> 95\u001b[0m Nf \u001b[39m=\u001b[39m \u001b[39m0\u001b[39m \n\u001b[1;32m     96\u001b[0m \u001b[39mfor\u001b[39;00m i \u001b[39min\u001b[39;00m \u001b[39mrange\u001b[39m(\u001b[39mself\u001b[39m\u001b[39m.\u001b[39mnumber_of_traders):\n\u001b[1;32m     97\u001b[0m     random\u001b[39m.\u001b[39mshuffle(trader_types)\n",
      "\u001b[0;31mIndexError\u001b[0m: pop from empty list"
     ]
    }
   ],
   "source": [
    "# Generate Sobol samples\n",
    "param_values = sobol.sample(problem, 8)\n",
    "\n",
    "results = []\n",
    "\n",
    "start_time = time.time()\n",
    "for i, params in enumerate(param_values):\n",
    "    results.append(model(params))\n",
    "    if i % 10 == 0:\n",
    "        print(f\"Progress: {i / len(param_values) * 100:.2f}%\")\n",
    "\n",
    "total_time = time.time() - start_time\n",
    "print(f\"Total time for all runs: {total_time / 3600:.2f} hours\")\n",
    "\n",
    "sobol_indices = sobol.analyze(problem, np.array(results))\n",
    "\n",
    "print(\"Sobol Sensitivity Indices\")\n",
    "print(\"S1 (First order indices):\")\n",
    "print(sobol_indices['S1'])\n",
    "print(\"ST (Total order indices):\")\n",
    "print(sobol_indices['ST'])\n",
    "\n",
    "# Optionally, visualize the Sobol indices\n",
    "plt.figure(figsize=(10, 6))\n",
    "plt.bar(problem['names'], sobol_indices['S1'], align='center', alpha=0.7)\n",
    "plt.xlabel('Parameters')\n",
    "plt.ylabel('First Order Sensitivity Indices')\n",
    "plt.title('First Order Sobol Sensitivity Indices')\n",
    "plt.show()\n",
    "\n",
    "plt.figure(figsize=(10, 6))\n",
    "plt.bar(problem['names'], sobol_indices['ST'], align='center', alpha=0.7)\n",
    "plt.xlabel('Parameters')\n",
    "plt.ylabel('Total Order Sensitivity Indices')\n",
    "plt.title('Total Order Sobol Sensitivity Indices')\n",
    "plt.show()"
   ]
  },
  {
   "cell_type": "code",
   "execution_count": null,
   "metadata": {},
   "outputs": [],
   "source": []
  }
 ],
 "metadata": {
  "kernelspec": {
   "display_name": "base",
   "language": "python",
   "name": "python3"
  },
  "language_info": {
   "codemirror_mode": {
    "name": "ipython",
    "version": 3
   },
   "file_extension": ".py",
   "mimetype": "text/x-python",
   "name": "python",
   "nbconvert_exporter": "python",
   "pygments_lexer": "ipython3",
   "version": "3.11.5"
  }
 },
 "nbformat": 4,
 "nbformat_minor": 2
}
