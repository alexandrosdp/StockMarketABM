{
 "cells": [
  {
   "cell_type": "code",
   "execution_count": null,
   "id": "9f315cd7",
   "metadata": {},
   "outputs": [],
   "source": [
    "import numpy as np"
   ]
  },
  {
   "cell_type": "code",
   "execution_count": null,
   "id": "7729848d",
   "metadata": {},
   "outputs": [],
   "source": [
    "# Parameter, from previous: Weights for each type of trader,the number of time steps in the simulation\n",
    "w1, w2, w3 = 0.5, 0.3, 0.2  \n",
    "time_steps = 100 \n",
    "\n",
    "# also from previous part\n",
    "D1_t = ?  # Demand from trend followers\n",
    "D2_t = ?  # Demand from contrarians\n",
    "Df_t = ?   # Demand from fundamentalists\n",
    "\n",
    "# now store trading volume\n",
    "trading_volumes = np.zeros(time_steps)\n",
    "\n",
    "def calculate_trading_volume(D1c_t, D2c_t, Df_t):\n",
    "    total_excess_demand = Df_t + D1c_t + D2c_t\n",
    "    if total_excess_demand > 0:\n",
    "        volume = min(abs(D1c_t), abs(D2c_t)) + abs(Df_t + D1c_t + D2c_t)\n",
    "    else:\n",
    "        volume = min(abs(D1c_t), abs(D2c_t)) + max(abs(Df_t), abs(D1c_t + D2c_t))\n",
    "    return volume\n",
    "\n",
    "# Simulation loop\n",
    "for t in range(time_steps):\n",
    "    # Calculate weighted demands\n",
    "    weighted_D1_t = w1 * D1_t[t]\n",
    "    weighted_D2_t = w2 * D2_t[t]\n",
    "    weighted_Df_t = w3 * Df_t[t]\n",
    "    \n",
    "    # Calculate trading volume for the current time step\n",
    "    trading_volumes[t] = calculate_trading_volume(weighted_D1_t, weighted_D2_t, weighted_Df_t)\n",
    "\n",
    "# Output the results\n",
    "print(\"Trading Volumes over Time:\", trading_volumes)\n"
   ]
  },
  {
   "cell_type": "code",
   "execution_count": null,
   "id": "8914e3f3",
   "metadata": {},
   "outputs": [],
   "source": []
  }
 ],
 "metadata": {
  "kernelspec": {
   "display_name": "Python 3 (ipykernel)",
   "language": "python",
   "name": "python3"
  },
  "language_info": {
   "codemirror_mode": {
    "name": "ipython",
    "version": 3
   },
   "file_extension": ".py",
   "mimetype": "text/x-python",
   "name": "python",
   "nbconvert_exporter": "python",
   "pygments_lexer": "ipython3",
   "version": "3.11.4"
  }
 },
 "nbformat": 4,
 "nbformat_minor": 5
}
